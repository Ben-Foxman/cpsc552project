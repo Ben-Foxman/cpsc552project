{
  "cells": [
    {
      "cell_type": "markdown",
      "metadata": {
        "id": "tYVq_mJAQQ-v"
      },
      "source": [
        "# Base Pytorch Model Implementation"
      ]
    },
    {
      "cell_type": "markdown",
      "metadata": {
        "id": "31A8ux6Es2FQ"
      },
      "source": [
        "#### More Tests"
      ]
    },
    {
      "cell_type": "code",
      "execution_count": 83,
      "metadata": {},
      "outputs": [],
      "source": [
        "import torch\n",
        "import torchvision\n",
        "import torchvision.transforms as transforms\n",
        "import torch.nn as nn\n",
        "import torch.optim as optim\n",
        "from torchattacks import PGD, FGSM, VANILA, GN, Jitter #Ben: trying out some more attacks\n",
        "from torchvision import datasets, transforms\n",
        "import torchvision.models as models\n",
        "from torch.utils.data import DataLoader\n",
        "import random"
      ]
    },
    {
      "cell_type": "code",
      "execution_count": 84,
      "metadata": {},
      "outputs": [
        {
          "name": "stdout",
          "output_type": "stream",
          "text": [
            "Loading model\n"
          ]
        }
      ],
      "source": [
        "# temporary: copying the code to load the model\n",
        "device = torch.device(\"cpu\")\n",
        "\n",
        "train_transform =  transforms.Compose([\n",
        "    transforms.RandomResizedCrop(size = 224, scale=(0.8, 1.0)),\n",
        "    transforms.RandomHorizontalFlip(),\n",
        "    transforms.ToTensor(),\n",
        "    transforms.Normalize([0.485, 0.456, 0.406], [0.229, 0.224, 0.225])\n",
        "])\n",
        "\n",
        "#Test does not use augmentation, only normalization is being performed.\n",
        "test_transform = transforms.Compose([\n",
        "    transforms.Resize(224),\n",
        "    transforms.CenterCrop(size = 224),\n",
        "    transforms.ToTensor(),\n",
        "    transforms.Normalize([0.485, 0.456, 0.406], [0.229, 0.224, 0.225])\n",
        "])\n",
        "\n",
        "# Set the directory for saving the dataset\n",
        "# data_dir = '/content/drive/My Drive/FinalProject1'\n",
        "data_dir = './data'\n",
        "\n",
        "# Load datasets, first time you need to download it (may take a while). After that it should just pull the local copy\n",
        "train_dataset = datasets.Food101(root=data_dir, split='train', download=True, transform=train_transform)\n",
        "test_dataset = datasets.Food101(root=data_dir, split='test', download=True, transform=test_transform)\n",
        "\n",
        "# Dataloaders, may need to change # of workers or batchsize to improve performance\n",
        "train_loader = DataLoader(train_dataset, batch_size=32, shuffle=True, num_workers=4)\n",
        "test_loader = DataLoader(test_dataset, batch_size=32, shuffle=True,num_workers=4)\n",
        "\n",
        "# Pretrained model, efficient architecture\n",
        "model = models.efficientnet_b2(weights='DEFAULT')\n",
        "\n",
        "# If false, then pretrained weights do not change\n",
        "# for val in model.features.parameters():\n",
        "#   val.requires_grad = False\n",
        "\n",
        "# Add one more layer to base model and then add an output layer\n",
        "model.classifier = nn.Sequential(\n",
        "    nn.Linear(model.classifier[1].in_features, 1024),\n",
        "    nn.ReLU(),\n",
        "    nn.Linear(1024, len(train_dataset.classes))\n",
        ")\n",
        "\n",
        "print(\"Loading model\")\n",
        "# Path to the .pth file\n",
        "model_path = 'results/bestmodel.pth'\n",
        "\n",
        "# Load the state dictionary from the .pth file\n",
        "state_dict = torch.load(model_path)\n",
        "\n",
        "# Load the state dictionary into the model\n",
        "model.load_state_dict(state_dict)\n",
        "\n",
        "# Put model onto gpu\n",
        "model = model.to(device)\n"
      ]
    },
    {
      "cell_type": "code",
      "execution_count": 85,
      "metadata": {},
      "outputs": [],
      "source": [
        "def general_PGD(model, loss_function, data, proj_norm=2, radius=0.03, lr=0.01, steps=10):\n",
        "\n",
        "  features, labels = data\n",
        "  features = features.clone().detach().to(device)\n",
        "  labels = labels.clone().detach().to(device)\n",
        "\n",
        "  adv_features = features.clone().detach()\n",
        "\n",
        "  #maximize loss wrt feature perturbations, for fixed network parameters\n",
        "  for _ in range(steps):\n",
        "    adv_features.requires_grad = True\n",
        "\n",
        "    #model prediction\n",
        "    pred = model(adv_features)\n",
        "\n",
        "    #error calculation\n",
        "    error = loss_function(pred, labels)\n",
        "\n",
        "    #gradient descend\n",
        "    grad = torch.autograd.grad(error, adv_features)[0] #grad:(1, 64, 3, 224, 224), where the first coordinate if the batch number?\n",
        "    grad_norm = torch.norm(grad, p=proj_norm, dim=[1,2,3]) #normalize the gradient according to paper https://arxiv.org/pdf/1706.06083\n",
        "    grad = grad / grad_norm.view(-1,1,1,1)\n",
        "\n",
        "    adv_features = adv_features.detach() + lr * grad\n",
        "\n",
        "    #projection: |features - adv_features|_{norm} < radius\n",
        "    orig_diff = features - adv_features\n",
        "    orig_diff_norm = torch.norm(orig_diff, p=proj_norm, dim=[1,2,3])\n",
        "    normalization = radius / orig_diff_norm\n",
        "\n",
        "    diff = orig_diff * normalization.view(-1,1,1,1)\n",
        "\n",
        "    adv_features = (features - diff).detach()\n",
        "\n",
        "  return adv_features"
      ]
    },
    {
      "cell_type": "code",
      "execution_count": 94,
      "metadata": {
        "id": "VS-eLjsN5DQn"
      },
      "outputs": [],
      "source": [
        "# parameters setting\n",
        "loss_function = nn.CrossEntropyLoss()\n",
        "proj_norm=2\n",
        "lr=0.001\n",
        "radius=0.01\n",
        "\n",
        "num_batches = 10 # how many batches to use?\n",
        "data = next(iter(test_loader))\n",
        "for i in range(num_batches - 1):\n",
        "    batch = next(iter(test_loader))\n",
        "    data[0] = torch.concat((data[0], batch[0]))\n",
        "    data[1] = torch.concat((data[1], batch[1]))"
      ]
    },
    {
      "cell_type": "markdown",
      "metadata": {
        "id": "zZ2_wr_VyXcM"
      },
      "source": [
        "#### Now, we'll try some different attacks (including some random ones), and see which ones perform well"
      ]
    },
    {
      "cell_type": "code",
      "execution_count": 95,
      "metadata": {
        "id": "WVjGPpjyyg75"
      },
      "outputs": [],
      "source": [
        "eps = 0.03 # the adversarial tolerance\n",
        "\n",
        "# FGSM (Fast Gradient Sign Method) attack\n",
        "fgsm_attack = FGSM(model, eps=eps)\n",
        "\n",
        "# Gaussian noise attack\n",
        "gaussian_noise_attack = GN(model, std=eps)\n",
        "\n",
        "# Jitter attack\n",
        "jitter_attack = Jitter(model, eps=eps, steps=10)\n",
        "\n",
        "\n",
        "# Iterate through the test loader\n",
        "images, labels = data\n",
        "\n",
        "# adv_features = general_PGD(model, loss_function, data, proj_norm=2, radius=0.03, lr=0.01, steps=10)\n",
        "pgd_attack = PGD(model, eps=eps)\n",
        "\n",
        "adv_images_fgsm, adv_images_gaussian,  adv_images_jitter, adv_images_pgd, adv_images_nothing =\\\n",
        " None, None, None, None, images\n",
        "\n",
        "\n",
        "# Apply attacks\n",
        "adv_images_fgsm = images.to(device) + fgsm_attack(images, labels)\n",
        "adv_images_gaussian = images.to(device) + gaussian_noise_attack(images, labels)\n",
        "adv_images_jitter = images.to(device) + jitter_attack(images, labels)\n",
        "adv_images_pgd = images.to(device) + pgd_attack(images, labels)"
      ]
    },
    {
      "cell_type": "markdown",
      "metadata": {
        "id": "Z00PBxb91qau"
      },
      "source": [
        "#### Finally, we'll evaluate how accurately the model can predict different adversarial inputs."
      ]
    },
    {
      "cell_type": "code",
      "execution_count": 96,
      "metadata": {
        "id": "ZqE-nIPV2wCV"
      },
      "outputs": [],
      "source": [
        "import torch\n",
        "from torch.utils.data import Dataset, DataLoader\n",
        "\n",
        "# Define a custom dataset to hold the adversarial examples\n",
        "class AdversarialDataset(Dataset):\n",
        "    def __init__(self, data, labels):\n",
        "        self.data = data\n",
        "        self.labels = labels\n",
        "\n",
        "    def __len__(self):\n",
        "        return len(self.data)\n",
        "\n",
        "    def __getitem__(self, idx):\n",
        "        return self.data[idx], self.labels[idx]"
      ]
    },
    {
      "cell_type": "code",
      "execution_count": 97,
      "metadata": {
        "colab": {
          "base_uri": "https://localhost:8080/"
        },
        "id": "Pr3yArop1aBp",
        "outputId": "5c758a1a-9bd3-48bd-bedd-44e1aea33d05"
      },
      "outputs": [],
      "source": [
        "# Define a function to evaluate model accuracy\n",
        "def evaluate_model(model, dataloader):\n",
        "    device = next(model.parameters()).device\n",
        "    correct = 0\n",
        "    total = 0\n",
        "\n",
        "    # Set model to evaluation mode\n",
        "    model.eval()\n",
        "\n",
        "    with torch.no_grad():\n",
        "        for images, labels in dataloader:\n",
        "            images, labels = images.to(device), labels.to(device)\n",
        "\n",
        "            # Forward pass\n",
        "            outputs = model(images).to(device)\n",
        "\n",
        "            # Get predicted labels\n",
        "            _, predicted = torch.max(outputs, 1)\n",
        "\n",
        "            # Update total and correct predictions\n",
        "            total += labels.size(0)\n",
        "            correct += (predicted == labels).sum().item()\n",
        "            \n",
        "\n",
        "    # Calculate accuracy\n",
        "    accuracy = (correct / total) * 100\n",
        "    print('Accuracy on adversarial examples: {:.2f}%'.format(accuracy))\n",
        "\n"
      ]
    },
    {
      "cell_type": "code",
      "execution_count": 98,
      "metadata": {
        "colab": {
          "base_uri": "https://localhost:8080/"
        },
        "id": "jw8c6k9Y389z",
        "outputId": "edd301ab-cad0-4e8b-8b3d-f5b490b13800"
      },
      "outputs": [
        {
          "name": "stdout",
          "output_type": "stream",
          "text": [
            "Adversarial Attack with attack=none\n",
            "Accuracy on adversarial examples: 77.81%\n",
            "Adversarial Attack with attack=fgsm\n",
            "Accuracy on adversarial examples: 41.56%\n",
            "Adversarial Attack with attack=gaussian noise\n",
            "Accuracy on adversarial examples: 67.19%\n",
            "Adversarial Attack with attack=jitter\n",
            "Accuracy on adversarial examples: 67.19%\n",
            "Adversarial Attack with attack=pgd\n",
            "Accuracy on adversarial examples: 62.50%\n"
          ]
        }
      ],
      "source": [
        "attacks = [\"none\", \"fgsm\", \"gaussian noise\", \"jitter\", \"pgd\"]\n",
        "\n",
        "for attack, adv_data in zip(attacks, [adv_images_nothing, adv_images_fgsm, adv_images_gaussian, adv_images_jitter, adv_images_pgd]):\n",
        "  print(f\"Adversarial Attack with attack={attack}\")\n",
        "  # Convert adversarial examples to a dataset\n",
        "  adversarial_dataset = AdversarialDataset(adv_data, labels)\n",
        "\n",
        "  # Define a DataLoader for the adversarial examples\n",
        "  adversarial_loader = DataLoader(adversarial_dataset, batch_size=100, shuffle=False)\n",
        "  evaluate_model(model, adversarial_loader)"
      ]
    }
  ],
  "metadata": {
    "accelerator": "GPU",
    "colab": {
      "gpuType": "T4",
      "provenance": []
    },
    "kernelspec": {
      "display_name": "Python 3",
      "name": "python3"
    },
    "language_info": {
      "codemirror_mode": {
        "name": "ipython",
        "version": 3
      },
      "file_extension": ".py",
      "mimetype": "text/x-python",
      "name": "python",
      "nbconvert_exporter": "python",
      "pygments_lexer": "ipython3",
      "version": "3.12.3"
    }
  },
  "nbformat": 4,
  "nbformat_minor": 0
}
