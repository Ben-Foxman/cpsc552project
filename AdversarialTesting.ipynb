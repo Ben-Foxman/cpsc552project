{
  "cells": [
    {
      "cell_type": "markdown",
      "metadata": {
        "id": "tYVq_mJAQQ-v"
      },
      "source": [
        "# Base Pytorch Model Implementation"
      ]
    },
    {
      "cell_type": "markdown",
      "metadata": {
        "id": "31A8ux6Es2FQ"
      },
      "source": [
        "#### More Tests"
      ]
    },
    {
      "cell_type": "code",
      "execution_count": null,
      "metadata": {
        "id": "VS-eLjsN5DQn"
      },
      "outputs": [],
      "source": [
        "# copied from above.\n",
        "\n",
        "PATH = \"/content/drive/My Drive/model.pth\"\n",
        "\n",
        "model = models.efficientnet_b0(weights='DEFAULT')\n",
        "\n",
        "for val in model.features.parameters():\n",
        "      val.requires_grad = False\n",
        "\n",
        "model.classifier = nn.Sequential(\n",
        "    nn.Linear(model.classifier[1].in_features, 1024),\n",
        "    nn.ReLU(),\n",
        "    nn.Linear(1024, len(trainset.classes))\n",
        ")\n",
        "\n",
        "model.load_state_dict(torch.load(PATH))\n",
        "model.eval()\n",
        "\n",
        "# parameters setting\n",
        "loss_function = nn.CrossEntropyLoss()\n",
        "proj_norm=2\n",
        "lr=0.001\n",
        "radius=0.01\n",
        "data = next(iter(trainloader))\n",
        "\n",
        "adv_features = general_PGD(model, loss_function, data, proj_norm=2, radius=0.03, lr=0.01, steps=10)"
      ]
    },
    {
      "cell_type": "markdown",
      "metadata": {
        "id": "zZ2_wr_VyXcM"
      },
      "source": [
        "#### Now, we'll try some different attacks (including some random ones), and see which ones perform well"
      ]
    },
    {
      "cell_type": "code",
      "execution_count": null,
      "metadata": {
        "id": "WVjGPpjyyg75"
      },
      "outputs": [],
      "source": [
        "eps = 0.03 # the adversarial tolerance\n",
        "\n",
        "# FGSM (Fast Gradient Sign Method) attack\n",
        "fgsm_attack = FGSM(model, eps=eps)\n",
        "\n",
        "# Gaussian noise attack\n",
        "gaussian_noise_attack = GN(model, std=0.1)\n",
        "\n",
        "# Jitter attack\n",
        "jitter_attack = Jitter(model, eps=eps, steps=10)\n",
        "\n",
        "adv_images_fgsm, adv_images_gaussian,  adv_images_jitter, adv_images_pgd =\\\n",
        " None, None, None, adv_features\n",
        "# Iterate through the test loader\n",
        "images, labels = data\n",
        "# Apply attacks\n",
        "adv_images_fgsm = fgsm_attack(images, labels)\n",
        "adv_images_gaussian = gaussian_noise_attack(images, labels)\n",
        "adv_images_jitter = jitter_attack(images, labels)\n",
        "\n"
      ]
    },
    {
      "cell_type": "code",
      "execution_count": null,
      "metadata": {
        "id": "rVVxOkkO6bfE"
      },
      "outputs": [],
      "source": [
        "adv_images_nothing = images"
      ]
    },
    {
      "cell_type": "markdown",
      "metadata": {
        "id": "Z00PBxb91qau"
      },
      "source": [
        "#### Finally, we'll evaluate how accurately the model can predict different adversarial inputs."
      ]
    },
    {
      "cell_type": "code",
      "execution_count": null,
      "metadata": {
        "id": "ZqE-nIPV2wCV"
      },
      "outputs": [],
      "source": [
        "import torch\n",
        "from torch.utils.data import Dataset, DataLoader\n",
        "\n",
        "# Define a custom dataset to hold the adversarial examples\n",
        "class AdversarialDataset(Dataset):\n",
        "    def __init__(self, data, labels):\n",
        "        self.data = data\n",
        "        self.labels = labels\n",
        "\n",
        "    def __len__(self):\n",
        "        return len(self.data)\n",
        "\n",
        "    def __getitem__(self, idx):\n",
        "        return self.data[idx], self.labels[idx]\n",
        "\n",
        "\n",
        "\n"
      ]
    },
    {
      "cell_type": "code",
      "execution_count": null,
      "metadata": {
        "colab": {
          "base_uri": "https://localhost:8080/"
        },
        "id": "Pr3yArop1aBp",
        "outputId": "5c758a1a-9bd3-48bd-bedd-44e1aea33d05"
      },
      "outputs": [
        {
          "name": "stdout",
          "output_type": "stream",
          "text": [
            "Accuracy on adversarial examples: 12.50%\n"
          ]
        }
      ],
      "source": [
        "# Define a function to evaluate model accuracy\n",
        "def evaluate_model(model, dataloader):\n",
        "    device = next(model.parameters()).device\n",
        "    correct = 0\n",
        "    total = 0\n",
        "\n",
        "    # Set model to evaluation mode\n",
        "    model.eval()\n",
        "\n",
        "    with torch.no_grad():\n",
        "        for images, labels in dataloader:\n",
        "            images, labels = images.to(device), labels.to(device)\n",
        "\n",
        "            # Forward pass\n",
        "            outputs = model(images).to(device)\n",
        "\n",
        "            # Get predicted labels\n",
        "            _, predicted = torch.max(outputs, 1)\n",
        "\n",
        "            # Update total and correct predictions\n",
        "            total += labels.size(0)\n",
        "            correct += (predicted == labels).sum().item()\n",
        "\n",
        "    # Calculate accuracy\n",
        "    accuracy = (correct / total) * 100\n",
        "    print('Accuracy on adversarial examples: {:.2f}%'.format(accuracy))\n",
        "\n"
      ]
    },
    {
      "cell_type": "code",
      "execution_count": null,
      "metadata": {
        "colab": {
          "base_uri": "https://localhost:8080/"
        },
        "id": "jw8c6k9Y389z",
        "outputId": "edd301ab-cad0-4e8b-8b3d-f5b490b13800"
      },
      "outputs": [
        {
          "name": "stdout",
          "output_type": "stream",
          "text": [
            "Adversarial Attack with attack=none\n",
            "Accuracy on adversarial examples: 1.56%\n",
            "Adversarial Attack with attack=fgsm\n",
            "Accuracy on adversarial examples: 12.50%\n",
            "Adversarial Attack with attack=gaussian noise\n",
            "Accuracy on adversarial examples: 1.56%\n",
            "Adversarial Attack with attack=jitter\n",
            "Accuracy on adversarial examples: 0.00%\n",
            "Adversarial Attack with attack=pgd\n",
            "Accuracy on adversarial examples: 1.56%\n"
          ]
        }
      ],
      "source": [
        "attacks = [\"none\", \"fgsm\", \"gaussian noise\", \"jitter\", \"pgd\"]\n",
        "\n",
        "for attack, adv_data in zip(attacks, [adv_images_nothing, adv_images_fgsm, adv_images_gaussian, adv_images_jitter, adv_images_pgd]):\n",
        "  print(f\"Adversarial Attack with attack={attack}\")\n",
        "  # Convert adversarial examples to a dataset\n",
        "  adversarial_dataset = AdversarialDataset(adv_data, labels)\n",
        "\n",
        "  # Define a DataLoader for the adversarial examples\n",
        "  adversarial_loader = DataLoader(adversarial_dataset, batch_size=64, shuffle=False)\n",
        "  evaluate_model(model, adversarial_loader)"
      ]
    }
  ],
  "metadata": {
    "accelerator": "GPU",
    "colab": {
      "gpuType": "T4",
      "provenance": []
    },
    "kernelspec": {
      "display_name": "Python 3",
      "name": "python3"
    },
    "language_info": {
      "name": "python"
    }
  },
  "nbformat": 4,
  "nbformat_minor": 0
}
